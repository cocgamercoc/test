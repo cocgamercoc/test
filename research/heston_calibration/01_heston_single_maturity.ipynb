{
  "nbformat": 4,
  "nbformat_minor": 0,
  "metadata": {
    "colab": {
      "provenance": []
    },
    "kernelspec": {
      "name": "python3",
      "display_name": "Python 3"
    },
    "language_info": {
      "name": "python"
    }
  },
  "cells": [
    {
      "cell_type": "code",
      "execution_count": null,
      "metadata": {
        "id": "mRwWuWK5fuCe"
      },
      "outputs": [],
      "source": [
        "# Heston calibration pipeline\n",
        "from src.data_loader_yahoo import load_spx_option_slice\n",
        "from src.calibration import fit_heston_iv, model_iv_for_strikes\n",
        "from src.plot_smile import plot_iv_smile\n",
        "\n",
        "df_chain,S0,r,q,T = load_spx_option_slice()\n",
        "strikes = df_chain[\"strike\"].values\n",
        "iv_mkt  = df_chain[\"implied_vol\"].values\n",
        "\n",
        "params,cost,sol = fit_heston_iv(S0,r,q,T,strikes,iv_mkt)\n",
        "print(\"Calibrated (kappa, theta, sigma, rho, v0):\", params)\n",
        "\n",
        "iv_model = model_iv_for_strikes(S0,r,q,T,strikes,params)\n",
        "fig = plot_iv_smile(strikes,iv_mkt,iv_model,\n",
        "                    title=\"SPX Smile (Heston Calibrated)\")\n",
        "fig.savefig(\"heston_smile.png\",dpi=300,bbox_inches=\"tight\")\n"
      ]
    }
  ]
}